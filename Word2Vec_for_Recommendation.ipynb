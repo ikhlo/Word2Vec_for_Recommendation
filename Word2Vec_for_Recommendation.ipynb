{
  "nbformat": 4,
  "nbformat_minor": 2,
  "metadata": {
    "colab": {
      "name": "Word2Vec_for_Recommendation.ipynb",
      "provenance": [],
      "collapsed_sections": []
    },
    "kernelspec": {
      "name": "python3",
      "display_name": "Python 3"
    },
    "language_info": {
      "name": "python"
    },
    "accelerator": "GPU"
  },
  "cells": [
    {
      "cell_type": "markdown",
      "source": [
        "## Connect to google drive"
      ],
      "metadata": {
        "id": "n14fS7Bn9z07"
      }
    },
    {
      "cell_type": "code",
      "execution_count": 1,
      "source": [
        "from google.colab import drive\r\n",
        "\r\n",
        "drive.mount(\"/content/drive\")"
      ],
      "outputs": [
        {
          "output_type": "stream",
          "name": "stdout",
          "text": [
            "Mounted at /content/drive\n"
          ]
        }
      ],
      "metadata": {
        "colab": {
          "base_uri": "https://localhost:8080/"
        },
        "id": "K4FypAKB9S73",
        "outputId": "d970c8ef-c374-40b0-f34c-46550bdcd44f"
      }
    },
    {
      "cell_type": "markdown",
      "source": [
        "## Set up the working directory "
      ],
      "metadata": {
        "id": "f1MMNLvT94vj"
      }
    },
    {
      "cell_type": "code",
      "execution_count": 2,
      "source": [
        "import os\r\n",
        "os.chdir('/content/drive/MyDrive/PROJET_PERSO/Word2Vec_for_RecoSystems')"
      ],
      "outputs": [],
      "metadata": {
        "id": "9graOJ0H9SoS"
      }
    },
    {
      "cell_type": "markdown",
      "source": [
        "## Read & Process data"
      ],
      "metadata": {
        "id": "6N6cWg6F-GZ8"
      }
    },
    {
      "cell_type": "code",
      "execution_count": 3,
      "source": [
        "import pandas as pd\r\n",
        "import numpy as np\r\n",
        "import random"
      ],
      "outputs": [],
      "metadata": {
        "id": "JhoZJVQX7cb2"
      }
    },
    {
      "cell_type": "code",
      "execution_count": 4,
      "source": [
        "df = pd.read_excel('Online Retail.xlsx')"
      ],
      "outputs": [],
      "metadata": {
        "id": "GLy5_5Ez-I4H"
      }
    },
    {
      "cell_type": "code",
      "execution_count": 5,
      "source": [
        "df.head(5)"
      ],
      "outputs": [
        {
          "output_type": "execute_result",
          "data": {
            "text/html": [
              "<div>\n",
              "<style scoped>\n",
              "    .dataframe tbody tr th:only-of-type {\n",
              "        vertical-align: middle;\n",
              "    }\n",
              "\n",
              "    .dataframe tbody tr th {\n",
              "        vertical-align: top;\n",
              "    }\n",
              "\n",
              "    .dataframe thead th {\n",
              "        text-align: right;\n",
              "    }\n",
              "</style>\n",
              "<table border=\"1\" class=\"dataframe\">\n",
              "  <thead>\n",
              "    <tr style=\"text-align: right;\">\n",
              "      <th></th>\n",
              "      <th>InvoiceNo</th>\n",
              "      <th>StockCode</th>\n",
              "      <th>Description</th>\n",
              "      <th>Quantity</th>\n",
              "      <th>InvoiceDate</th>\n",
              "      <th>UnitPrice</th>\n",
              "      <th>CustomerID</th>\n",
              "      <th>Country</th>\n",
              "    </tr>\n",
              "  </thead>\n",
              "  <tbody>\n",
              "    <tr>\n",
              "      <th>0</th>\n",
              "      <td>536365</td>\n",
              "      <td>85123A</td>\n",
              "      <td>WHITE HANGING HEART T-LIGHT HOLDER</td>\n",
              "      <td>6</td>\n",
              "      <td>2010-12-01 08:26:00</td>\n",
              "      <td>2.55</td>\n",
              "      <td>17850.0</td>\n",
              "      <td>United Kingdom</td>\n",
              "    </tr>\n",
              "    <tr>\n",
              "      <th>1</th>\n",
              "      <td>536365</td>\n",
              "      <td>71053</td>\n",
              "      <td>WHITE METAL LANTERN</td>\n",
              "      <td>6</td>\n",
              "      <td>2010-12-01 08:26:00</td>\n",
              "      <td>3.39</td>\n",
              "      <td>17850.0</td>\n",
              "      <td>United Kingdom</td>\n",
              "    </tr>\n",
              "    <tr>\n",
              "      <th>2</th>\n",
              "      <td>536365</td>\n",
              "      <td>84406B</td>\n",
              "      <td>CREAM CUPID HEARTS COAT HANGER</td>\n",
              "      <td>8</td>\n",
              "      <td>2010-12-01 08:26:00</td>\n",
              "      <td>2.75</td>\n",
              "      <td>17850.0</td>\n",
              "      <td>United Kingdom</td>\n",
              "    </tr>\n",
              "    <tr>\n",
              "      <th>3</th>\n",
              "      <td>536365</td>\n",
              "      <td>84029G</td>\n",
              "      <td>KNITTED UNION FLAG HOT WATER BOTTLE</td>\n",
              "      <td>6</td>\n",
              "      <td>2010-12-01 08:26:00</td>\n",
              "      <td>3.39</td>\n",
              "      <td>17850.0</td>\n",
              "      <td>United Kingdom</td>\n",
              "    </tr>\n",
              "    <tr>\n",
              "      <th>4</th>\n",
              "      <td>536365</td>\n",
              "      <td>84029E</td>\n",
              "      <td>RED WOOLLY HOTTIE WHITE HEART.</td>\n",
              "      <td>6</td>\n",
              "      <td>2010-12-01 08:26:00</td>\n",
              "      <td>3.39</td>\n",
              "      <td>17850.0</td>\n",
              "      <td>United Kingdom</td>\n",
              "    </tr>\n",
              "  </tbody>\n",
              "</table>\n",
              "</div>"
            ],
            "text/plain": [
              "  InvoiceNo StockCode  ... CustomerID         Country\n",
              "0    536365    85123A  ...    17850.0  United Kingdom\n",
              "1    536365     71053  ...    17850.0  United Kingdom\n",
              "2    536365    84406B  ...    17850.0  United Kingdom\n",
              "3    536365    84029G  ...    17850.0  United Kingdom\n",
              "4    536365    84029E  ...    17850.0  United Kingdom\n",
              "\n",
              "[5 rows x 8 columns]"
            ]
          },
          "metadata": {},
          "execution_count": 5
        }
      ],
      "metadata": {
        "colab": {
          "base_uri": "https://localhost:8080/",
          "height": 204
        },
        "id": "UZIoZMFq-gRz",
        "outputId": "5578a048-2b42-49d8-a453-fd52a9685bc5"
      }
    },
    {
      "cell_type": "code",
      "execution_count": 6,
      "source": [
        "df.dtypes"
      ],
      "outputs": [
        {
          "output_type": "execute_result",
          "data": {
            "text/plain": [
              "InvoiceNo              object\n",
              "StockCode              object\n",
              "Description            object\n",
              "Quantity                int64\n",
              "InvoiceDate    datetime64[ns]\n",
              "UnitPrice             float64\n",
              "CustomerID            float64\n",
              "Country                object\n",
              "dtype: object"
            ]
          },
          "metadata": {},
          "execution_count": 6
        }
      ],
      "metadata": {
        "colab": {
          "base_uri": "https://localhost:8080/"
        },
        "id": "X-PV3SZC_jtW",
        "outputId": "bb062ba8-05ef-44c6-8589-83b7c0046f28"
      }
    },
    {
      "cell_type": "code",
      "execution_count": 7,
      "source": [
        "#CONVERT TYPES\r\n",
        "df['InvoiceNo']= df['InvoiceNo'].astype(str)\r\n",
        "df['StockCode']= df['StockCode'].astype(str)\r\n",
        "df['Description']= df['Description'].astype(str)\r\n",
        "df['Country']= df['Country'].astype(str)"
      ],
      "outputs": [],
      "metadata": {
        "id": "v-TVpkkoKx5q"
      }
    },
    {
      "cell_type": "code",
      "execution_count": 8,
      "source": [
        "# DATASET SHAPE\r\n",
        "df.shape"
      ],
      "outputs": [
        {
          "output_type": "execute_result",
          "data": {
            "text/plain": [
              "(541909, 8)"
            ]
          },
          "metadata": {},
          "execution_count": 8
        }
      ],
      "metadata": {
        "colab": {
          "base_uri": "https://localhost:8080/"
        },
        "id": "eeewNvnr-ilW",
        "outputId": "5104a2b1-a431-47e8-8f3a-8a95cc8972b1"
      }
    },
    {
      "cell_type": "code",
      "execution_count": 9,
      "source": [
        "#PRINT ALL ROWS WITH MISSING VALUES\r\n",
        "df[df.isnull().any(axis=1)]"
      ],
      "outputs": [
        {
          "output_type": "execute_result",
          "data": {
            "text/html": [
              "<div>\n",
              "<style scoped>\n",
              "    .dataframe tbody tr th:only-of-type {\n",
              "        vertical-align: middle;\n",
              "    }\n",
              "\n",
              "    .dataframe tbody tr th {\n",
              "        vertical-align: top;\n",
              "    }\n",
              "\n",
              "    .dataframe thead th {\n",
              "        text-align: right;\n",
              "    }\n",
              "</style>\n",
              "<table border=\"1\" class=\"dataframe\">\n",
              "  <thead>\n",
              "    <tr style=\"text-align: right;\">\n",
              "      <th></th>\n",
              "      <th>InvoiceNo</th>\n",
              "      <th>StockCode</th>\n",
              "      <th>Description</th>\n",
              "      <th>Quantity</th>\n",
              "      <th>InvoiceDate</th>\n",
              "      <th>UnitPrice</th>\n",
              "      <th>CustomerID</th>\n",
              "      <th>Country</th>\n",
              "    </tr>\n",
              "  </thead>\n",
              "  <tbody>\n",
              "    <tr>\n",
              "      <th>622</th>\n",
              "      <td>536414</td>\n",
              "      <td>22139</td>\n",
              "      <td>nan</td>\n",
              "      <td>56</td>\n",
              "      <td>2010-12-01 11:52:00</td>\n",
              "      <td>0.00</td>\n",
              "      <td>NaN</td>\n",
              "      <td>United Kingdom</td>\n",
              "    </tr>\n",
              "    <tr>\n",
              "      <th>1443</th>\n",
              "      <td>536544</td>\n",
              "      <td>21773</td>\n",
              "      <td>DECORATIVE ROSE BATHROOM BOTTLE</td>\n",
              "      <td>1</td>\n",
              "      <td>2010-12-01 14:32:00</td>\n",
              "      <td>2.51</td>\n",
              "      <td>NaN</td>\n",
              "      <td>United Kingdom</td>\n",
              "    </tr>\n",
              "    <tr>\n",
              "      <th>1444</th>\n",
              "      <td>536544</td>\n",
              "      <td>21774</td>\n",
              "      <td>DECORATIVE CATS BATHROOM BOTTLE</td>\n",
              "      <td>2</td>\n",
              "      <td>2010-12-01 14:32:00</td>\n",
              "      <td>2.51</td>\n",
              "      <td>NaN</td>\n",
              "      <td>United Kingdom</td>\n",
              "    </tr>\n",
              "    <tr>\n",
              "      <th>1445</th>\n",
              "      <td>536544</td>\n",
              "      <td>21786</td>\n",
              "      <td>POLKADOT RAIN HAT</td>\n",
              "      <td>4</td>\n",
              "      <td>2010-12-01 14:32:00</td>\n",
              "      <td>0.85</td>\n",
              "      <td>NaN</td>\n",
              "      <td>United Kingdom</td>\n",
              "    </tr>\n",
              "    <tr>\n",
              "      <th>1446</th>\n",
              "      <td>536544</td>\n",
              "      <td>21787</td>\n",
              "      <td>RAIN PONCHO RETROSPOT</td>\n",
              "      <td>2</td>\n",
              "      <td>2010-12-01 14:32:00</td>\n",
              "      <td>1.66</td>\n",
              "      <td>NaN</td>\n",
              "      <td>United Kingdom</td>\n",
              "    </tr>\n",
              "    <tr>\n",
              "      <th>...</th>\n",
              "      <td>...</td>\n",
              "      <td>...</td>\n",
              "      <td>...</td>\n",
              "      <td>...</td>\n",
              "      <td>...</td>\n",
              "      <td>...</td>\n",
              "      <td>...</td>\n",
              "      <td>...</td>\n",
              "    </tr>\n",
              "    <tr>\n",
              "      <th>541536</th>\n",
              "      <td>581498</td>\n",
              "      <td>85099B</td>\n",
              "      <td>JUMBO BAG RED RETROSPOT</td>\n",
              "      <td>5</td>\n",
              "      <td>2011-12-09 10:26:00</td>\n",
              "      <td>4.13</td>\n",
              "      <td>NaN</td>\n",
              "      <td>United Kingdom</td>\n",
              "    </tr>\n",
              "    <tr>\n",
              "      <th>541537</th>\n",
              "      <td>581498</td>\n",
              "      <td>85099C</td>\n",
              "      <td>JUMBO  BAG BAROQUE BLACK WHITE</td>\n",
              "      <td>4</td>\n",
              "      <td>2011-12-09 10:26:00</td>\n",
              "      <td>4.13</td>\n",
              "      <td>NaN</td>\n",
              "      <td>United Kingdom</td>\n",
              "    </tr>\n",
              "    <tr>\n",
              "      <th>541538</th>\n",
              "      <td>581498</td>\n",
              "      <td>85150</td>\n",
              "      <td>LADIES &amp; GENTLEMEN METAL SIGN</td>\n",
              "      <td>1</td>\n",
              "      <td>2011-12-09 10:26:00</td>\n",
              "      <td>4.96</td>\n",
              "      <td>NaN</td>\n",
              "      <td>United Kingdom</td>\n",
              "    </tr>\n",
              "    <tr>\n",
              "      <th>541539</th>\n",
              "      <td>581498</td>\n",
              "      <td>85174</td>\n",
              "      <td>S/4 CACTI CANDLES</td>\n",
              "      <td>1</td>\n",
              "      <td>2011-12-09 10:26:00</td>\n",
              "      <td>10.79</td>\n",
              "      <td>NaN</td>\n",
              "      <td>United Kingdom</td>\n",
              "    </tr>\n",
              "    <tr>\n",
              "      <th>541540</th>\n",
              "      <td>581498</td>\n",
              "      <td>DOT</td>\n",
              "      <td>DOTCOM POSTAGE</td>\n",
              "      <td>1</td>\n",
              "      <td>2011-12-09 10:26:00</td>\n",
              "      <td>1714.17</td>\n",
              "      <td>NaN</td>\n",
              "      <td>United Kingdom</td>\n",
              "    </tr>\n",
              "  </tbody>\n",
              "</table>\n",
              "<p>135080 rows × 8 columns</p>\n",
              "</div>"
            ],
            "text/plain": [
              "       InvoiceNo StockCode  ... CustomerID         Country\n",
              "622       536414     22139  ...        NaN  United Kingdom\n",
              "1443      536544     21773  ...        NaN  United Kingdom\n",
              "1444      536544     21774  ...        NaN  United Kingdom\n",
              "1445      536544     21786  ...        NaN  United Kingdom\n",
              "1446      536544     21787  ...        NaN  United Kingdom\n",
              "...          ...       ...  ...        ...             ...\n",
              "541536    581498    85099B  ...        NaN  United Kingdom\n",
              "541537    581498    85099C  ...        NaN  United Kingdom\n",
              "541538    581498     85150  ...        NaN  United Kingdom\n",
              "541539    581498     85174  ...        NaN  United Kingdom\n",
              "541540    581498       DOT  ...        NaN  United Kingdom\n",
              "\n",
              "[135080 rows x 8 columns]"
            ]
          },
          "metadata": {},
          "execution_count": 9
        }
      ],
      "metadata": {
        "colab": {
          "base_uri": "https://localhost:8080/",
          "height": 419
        },
        "id": "i8OQrHAS-x_i",
        "outputId": "f91a7e5b-afd7-4f5f-bd72-b957f5db3749"
      }
    },
    {
      "cell_type": "code",
      "execution_count": 10,
      "source": [
        "#DELETE ALL MISSING VALUES' ROWS\r\n",
        "df.dropna(inplace=True)\r\n",
        "\r\n",
        "#SORT DATAFRAME BY INVOICE DATE\r\n",
        "df.sort_values(\"InvoiceDate\", inplace=True)"
      ],
      "outputs": [],
      "metadata": {
        "id": "Kt_ApfBo-7E8"
      }
    },
    {
      "cell_type": "markdown",
      "source": [
        "## Create sequences"
      ],
      "metadata": {
        "id": "InS5g9i7_9Sg"
      }
    },
    {
      "cell_type": "code",
      "execution_count": 11,
      "source": [
        "all_customers = df['CustomerID'].unique().tolist() #retrieve unique customerID inside a list\r\n",
        "print(f'There is {len(all_customers)} customers, so we can create {len(all_customers)} sequences.')"
      ],
      "outputs": [
        {
          "output_type": "stream",
          "name": "stdout",
          "text": [
            "There is 4372 customers, so we can create 4372 sequences.\n"
          ]
        }
      ],
      "metadata": {
        "colab": {
          "base_uri": "https://localhost:8080/"
        },
        "id": "LDBiMlQRAa6u",
        "outputId": "521eff1a-e874-46fd-ba14-eaf083d67c87"
      }
    },
    {
      "cell_type": "code",
      "execution_count": 12,
      "source": [
        "#We split our data into a training and a test set respictively 90% and 10% of our dataset.\r\n",
        "#I usually use 80/20 split but as our model will only works for know product, we should\r\n",
        "\r\n",
        "train_customers_id = random.sample(all_customers, k=int(len(all_customers)*0.9))\r\n",
        "test_customers_id = list(set(all_customers) - set(train_customers_id))\r\n",
        "print(f'Training set size : {len(train_customers_id)}')\r\n",
        "print(f'Test set size : {len(test_customers_id)}')"
      ],
      "outputs": [
        {
          "output_type": "stream",
          "name": "stdout",
          "text": [
            "Training set size : 3934\n",
            "Test set size : 438\n"
          ]
        }
      ],
      "metadata": {
        "colab": {
          "base_uri": "https://localhost:8080/"
        },
        "id": "0SEFg1kvAj43",
        "outputId": "59e6e584-f4d9-4b45-9dbc-998397e93fd2"
      }
    },
    {
      "cell_type": "code",
      "execution_count": 13,
      "source": [
        "#Create a train/valid dataframe and train/valid orders sequences\r\n",
        "#To do so, we copy rows from original dataframe where the customerID is inside the train/valid id list\r\n",
        "\r\n",
        "train_df = df[df['CustomerID'].isin(train_customers_id)].copy()\r\n",
        "train_seq = train_df.groupby(\"CustomerID\")[\"StockCode\"].apply(list).tolist()\r\n",
        "\r\n",
        "valid_df = df[df['CustomerID'].isin(test_customers_id)].copy()\r\n",
        "valid_seq = valid_df.groupby(\"CustomerID\")[\"StockCode\"].apply(list).tolist()"
      ],
      "outputs": [],
      "metadata": {
        "id": "0PCD1dkGj7C_"
      }
    },
    {
      "cell_type": "code",
      "execution_count": 14,
      "source": [
        "#A function to compute the average number of orders\r\n",
        "def avg_nb_orders(L):\r\n",
        "  sum = 0\r\n",
        "  for l in L:\r\n",
        "    sum += len(l)\r\n",
        "  return sum/len(L)\r\n",
        "\r\n",
        "print(f'The average numbers of orders beyong customers in training dataframe is around {int(avg_nb_orders(train_seq))}')"
      ],
      "outputs": [
        {
          "output_type": "stream",
          "name": "stdout",
          "text": [
            "The average numbers of orders beyong customers in training dataframe is around 93\n"
          ]
        }
      ],
      "metadata": {
        "colab": {
          "base_uri": "https://localhost:8080/"
        },
        "id": "PsQ0ZKhSDX8C",
        "outputId": "cd51d755-dc1b-4a85-a838-804b29c165fd"
      }
    },
    {
      "cell_type": "markdown",
      "source": [
        "## Create product dictionnary"
      ],
      "metadata": {
        "id": "7TrJHvB48RB0"
      }
    },
    {
      "cell_type": "code",
      "execution_count": 15,
      "source": [
        "#Keys are productID and values are product description\r\n",
        "all_products = df.groupby(\"StockCode\")[\"Description\"].unique().apply(lambda x: x[0]).to_dict()\r\n",
        "print(f'There is {len(all_products)} products')"
      ],
      "outputs": [
        {
          "output_type": "stream",
          "name": "stdout",
          "text": [
            "There is 3684 products\n"
          ]
        }
      ],
      "metadata": {
        "colab": {
          "base_uri": "https://localhost:8080/"
        },
        "id": "Hutt9HC0mdOb",
        "outputId": "9675d65a-4d5d-45bf-b086-1aa8b7942e26"
      }
    },
    {
      "cell_type": "markdown",
      "source": [
        "## Train the Word2Vec Model"
      ],
      "metadata": {
        "id": "eGkfqjnS9kqD"
      }
    },
    {
      "cell_type": "code",
      "execution_count": 16,
      "source": [
        "from gensim.models import Word2Vec \r\n",
        "from gensim.models.callbacks import CallbackAny2Vec"
      ],
      "outputs": [],
      "metadata": {
        "id": "ujrwPesW_4Yl"
      }
    },
    {
      "cell_type": "code",
      "execution_count": 17,
      "source": [
        "class callback(CallbackAny2Vec):\r\n",
        "    '''Callback to print loss after each epoch.'''\r\n",
        "\r\n",
        "    def __init__(self):\r\n",
        "        self.epoch = 1\r\n",
        "        self.previous_loss = 0.0\r\n",
        "\r\n",
        "    def on_epoch_end(self, model):\r\n",
        "        loss = model.get_latest_training_loss()\r\n",
        "        current_loss = loss - self.previous_loss\r\n",
        "        self.previous_loss = loss\r\n",
        "        print('Loss after epoch {}: {}'.format(self.epoch, current_loss))\r\n",
        "        self.epoch += 1"
      ],
      "outputs": [],
      "metadata": {
        "id": "FIqp89mAWseZ"
      }
    },
    {
      "cell_type": "code",
      "execution_count": 18,
      "source": [
        "#Model implementation using skip-gram mode\r\n",
        "model = Word2Vec(window=8, sg=1, hs=0, alpha=0.01, min_alpha=0.00001,\r\n",
        "                 negative=10, seed=11)\r\n",
        "\r\n",
        "model.build_vocab(train_seq, progress_per=500)\r\n",
        "\r\n",
        "model.train(train_seq, total_examples=model.corpus_count, epochs=70,\r\n",
        "            report_delay=1, compute_loss=True, callbacks=[callback()])"
      ],
      "outputs": [
        {
          "output_type": "stream",
          "name": "stdout",
          "text": [
            "Loss after epoch 1: 3509557.0\n",
            "Loss after epoch 2: 2521508.5\n",
            "Loss after epoch 3: 2384193.5\n",
            "Loss after epoch 4: 2321571.0\n",
            "Loss after epoch 5: 2294568.0\n",
            "Loss after epoch 6: 2160674.0\n",
            "Loss after epoch 7: 2106950.0\n",
            "Loss after epoch 8: 2038618.0\n",
            "Loss after epoch 9: 2136386.0\n",
            "Loss after epoch 10: 2028966.0\n",
            "Loss after epoch 11: 1848842.0\n",
            "Loss after epoch 12: 2040762.0\n",
            "Loss after epoch 13: 2124436.0\n",
            "Loss after epoch 14: 2127078.0\n",
            "Loss after epoch 15: 2072222.0\n",
            "Loss after epoch 16: 2067580.0\n",
            "Loss after epoch 17: 2193312.0\n",
            "Loss after epoch 18: 2041504.0\n",
            "Loss after epoch 19: 2171128.0\n",
            "Loss after epoch 20: 2020788.0\n",
            "Loss after epoch 21: 2233252.0\n",
            "Loss after epoch 22: 2097748.0\n",
            "Loss after epoch 23: 2018780.0\n",
            "Loss after epoch 24: 2188412.0\n",
            "Loss after epoch 25: 2150832.0\n",
            "Loss after epoch 26: 2172716.0\n",
            "Loss after epoch 27: 2075176.0\n",
            "Loss after epoch 28: 2212656.0\n",
            "Loss after epoch 29: 2029440.0\n",
            "Loss after epoch 30: 2259052.0\n",
            "Loss after epoch 31: 1493844.0\n",
            "Loss after epoch 32: 108200.0\n",
            "Loss after epoch 33: 108288.0\n",
            "Loss after epoch 34: 101528.0\n",
            "Loss after epoch 35: 110872.0\n",
            "Loss after epoch 36: 112480.0\n",
            "Loss after epoch 37: 107464.0\n",
            "Loss after epoch 38: 104224.0\n",
            "Loss after epoch 39: 107968.0\n",
            "Loss after epoch 40: 107688.0\n",
            "Loss after epoch 41: 109552.0\n",
            "Loss after epoch 42: 99536.0\n",
            "Loss after epoch 43: 106104.0\n",
            "Loss after epoch 44: 102752.0\n",
            "Loss after epoch 45: 105392.0\n",
            "Loss after epoch 46: 121992.0\n",
            "Loss after epoch 47: 111440.0\n",
            "Loss after epoch 48: 114776.0\n",
            "Loss after epoch 49: 103072.0\n",
            "Loss after epoch 50: 102240.0\n",
            "Loss after epoch 51: 101768.0\n",
            "Loss after epoch 52: 104152.0\n",
            "Loss after epoch 53: 112048.0\n",
            "Loss after epoch 54: 104608.0\n",
            "Loss after epoch 55: 109304.0\n",
            "Loss after epoch 56: 100056.0\n",
            "Loss after epoch 57: 99632.0\n",
            "Loss after epoch 58: 99328.0\n",
            "Loss after epoch 59: 101512.0\n",
            "Loss after epoch 60: 105320.0\n",
            "Loss after epoch 61: 99960.0\n",
            "Loss after epoch 62: 105328.0\n",
            "Loss after epoch 63: 99648.0\n",
            "Loss after epoch 64: 101864.0\n",
            "Loss after epoch 65: 102928.0\n",
            "Loss after epoch 66: 91256.0\n",
            "Loss after epoch 67: 98656.0\n",
            "Loss after epoch 68: 109000.0\n",
            "Loss after epoch 69: 102680.0\n",
            "Loss after epoch 70: 85752.0\n"
          ]
        },
        {
          "output_type": "execute_result",
          "data": {
            "text/plain": [
              "(25608123, 25858560)"
            ]
          },
          "metadata": {},
          "execution_count": 18
        }
      ],
      "metadata": {
        "colab": {
          "base_uri": "https://localhost:8080/"
        },
        "id": "vuCFZPLn_8g4",
        "outputId": "dd86e857-c055-4fc4-ddba-9504b9ad9d26"
      }
    },
    {
      "cell_type": "code",
      "execution_count": 19,
      "source": [
        "#Replace vectors by their L2-normalization\r\n",
        "model.wv.init_sims(replace=True)"
      ],
      "outputs": [],
      "metadata": {
        "id": "LG5_mkyOOZLR"
      }
    },
    {
      "cell_type": "code",
      "execution_count": 20,
      "source": [
        "#Get words' vector shape. We have 3174 unique word, and each of them has a length equals to 100\r\n",
        "model.wv[model.wv.vocab].shape"
      ],
      "outputs": [
        {
          "output_type": "execute_result",
          "data": {
            "text/plain": [
              "(3174, 100)"
            ]
          },
          "metadata": {},
          "execution_count": 20
        }
      ],
      "metadata": {
        "colab": {
          "base_uri": "https://localhost:8080/"
        },
        "id": "FNgSXUIOJQDc",
        "outputId": "65e7724c-5bf7-4be5-a488-f2842fcc83e6"
      }
    },
    {
      "cell_type": "markdown",
      "source": [
        "## Define our similarity measure"
      ],
      "metadata": {
        "id": "YG3UgVMHRzFz"
      }
    },
    {
      "cell_type": "code",
      "execution_count": 21,
      "source": [
        "def cosine_distance(vec1, vec2):\r\n",
        "  return np.dot(vec1, vec2)/(np.linalg.norm(vec1)*np.linalg.norm(vec2))"
      ],
      "outputs": [],
      "metadata": {
        "id": "HzkfMqnafjv9"
      }
    },
    {
      "cell_type": "code",
      "execution_count": 22,
      "source": [
        "def compute_similarity(model, topn=5, input_key=None, product_vec=None):\r\n",
        "  all_similarities = []\r\n",
        "  if not input_key and product_vec is None : return 0\r\n",
        "\r\n",
        "  elif product_vec is None:\r\n",
        "    product_vec = model.wv[input_key]\r\n",
        "\r\n",
        "  for key, product_name in all_products.items():\r\n",
        "    try:\r\n",
        "      dist = cosine_distance(product_vec, model.wv[key])\r\n",
        "      if dist != 1: all_similarities.append((product_name, dist))\r\n",
        "    except:\r\n",
        "      pass\r\n",
        "  \r\n",
        "  return sorted(all_similarities, key=lambda x: x[1], reverse=True)[:topn]\r\n"
      ],
      "outputs": [],
      "metadata": {
        "id": "cM77SOrjgUtX"
      }
    },
    {
      "cell_type": "markdown",
      "source": [
        "## Create a sequence vector"
      ],
      "metadata": {
        "id": "gnlikwMJsRaU"
      }
    },
    {
      "cell_type": "code",
      "execution_count": 23,
      "source": [
        "def seq_avg_vector(products):\r\n",
        "    avg_vec = []\r\n",
        "    for product in products:\r\n",
        "        try:\r\n",
        "          avg_vec.append(model.wv[product])\r\n",
        "        except:\r\n",
        "          pass\r\n",
        "        \r\n",
        "    return np.mean(avg_vec, axis=0)"
      ],
      "outputs": [],
      "metadata": {
        "id": "_bFVebl6xC0y"
      }
    },
    {
      "cell_type": "markdown",
      "source": [
        "## Print functions"
      ],
      "metadata": {
        "id": "sGbU91VAyGPu"
      }
    },
    {
      "cell_type": "code",
      "execution_count": 24,
      "source": [
        "def product_recommender(model, key, nb=3):\r\n",
        "  print(f'For the product \"{all_products[key]}\" here is the selected recommendations :')\r\n",
        "  recommendations = compute_similarity(model, input_key=key, topn=nb)\r\n",
        "  for item in recommendations:\r\n",
        "    print(f'\\t - {item[0]}')"
      ],
      "outputs": [],
      "metadata": {
        "id": "kGqkU66_yFtI"
      }
    },
    {
      "cell_type": "code",
      "execution_count": 25,
      "source": [
        "def sequence_recommender(model, orders_list, nb=3):\r\n",
        "  print(\"Here is the product ordered in this sequence:\")\r\n",
        "  for item in orders_list:\r\n",
        "    print(all_products[item])\r\n",
        "  print(f'\\nFor this history of products here is the selected recommendations :')\r\n",
        "  recommendations = compute_similarity(model, product_vec=seq_avg_vector(orders_list), topn=nb)\r\n",
        "  for item in recommendations:\r\n",
        "    print(f'\\t - {item[0]}')"
      ],
      "outputs": [],
      "metadata": {
        "id": "tsTvBm7PzFq0"
      }
    },
    {
      "cell_type": "markdown",
      "source": [
        "## Test our model"
      ],
      "metadata": {
        "id": "Vo1LDK4zxexp"
      }
    },
    {
      "cell_type": "code",
      "execution_count": 26,
      "source": [
        "product_recommender(model,'23256')"
      ],
      "outputs": [
        {
          "output_type": "stream",
          "name": "stdout",
          "text": [
            "For the product \"CHILDRENS CUTLERY SPACEBOY \" here is the selected recommendations :\n",
            "\t - CHILDRENS CUTLERY SPACEBOY \n",
            "\t - CHILDRENS CUTLERY DOLLY GIRL \n",
            "\t - CHILDRENS CUTLERY CIRCUS PARADE\n"
          ]
        }
      ],
      "metadata": {
        "colab": {
          "base_uri": "https://localhost:8080/"
        },
        "id": "jl6OBpRyxosJ",
        "outputId": "5b69ef47-5b60-475a-e110-e1676ae9fa84"
      }
    },
    {
      "cell_type": "code",
      "execution_count": 39,
      "source": [
        "#RECOMMENDATIONS ACCORDING TO THE 5 LAST ORDERS\r\n",
        "sequence_recommender(model, valid_seq[243][-5:])"
      ],
      "outputs": [
        {
          "output_type": "stream",
          "name": "stdout",
          "text": [
            "Here is the product ordered in this sequence:\n",
            "LARGE WHITE HEART OF WICKER\n",
            "EASTER DECORATION SITTING BUNNY\n",
            "WHITE HANGING HEART T-LIGHT HOLDER\n",
            "SET 6 SCHOOL MILK BOTTLES IN CRATE\n",
            "LARGE WHITE HEART OF WICKER\n",
            "\n",
            "For this history of products here is the selected recommendations :\n",
            "\t - LARGE WHITE HEART OF WICKER\n",
            "\t - SMALL WHITE HEART OF WICKER\n",
            "\t - HEART OF WICKER LARGE\n"
          ]
        }
      ],
      "metadata": {
        "colab": {
          "base_uri": "https://localhost:8080/"
        },
        "id": "uhXVh6SfzhXj",
        "outputId": "874c00be-ea3d-477f-87c0-c4407c9860d3"
      }
    },
    {
      "cell_type": "code",
      "execution_count": 27,
      "source": [],
      "outputs": [],
      "metadata": {
        "id": "Rus7iLRZxx8z"
      }
    }
  ]
}